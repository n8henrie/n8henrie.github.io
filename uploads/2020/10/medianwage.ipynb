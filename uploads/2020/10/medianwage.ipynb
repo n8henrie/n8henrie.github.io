{
 "cells": [
  {
   "cell_type": "markdown",
   "metadata": {},
   "source": [
    "Download this jupyter notebook in runnable format\n",
    "[here](/uploads/2020/10/medianwage.ipynb) and view the post on my website [here](https://n8henrie.com/2020/10/us-median-income-over-time).\n",
    "\n",
    "NB: There may be (hopefully minor) edits that are out of sync between the blog\n",
    "post and the downloaded notebook."
   ]
  },
  {
   "cell_type": "code",
   "execution_count": 1,
   "metadata": {},
   "outputs": [],
   "source": [
    "# pip install git+https://github.com/n8henrie/nb_black\n",
    "# This library automatically runs the `black` code formatter in jupyter cells.\n",
    "# The n8henrie/nb_black fork is slightly modified to allow specifying a custom\n",
    "# line length instead of using the default.\n",
    "import lab_black\n",
    "\n",
    "lab_black.load_ipython_extension(get_ipython(), line_length=79)"
   ]
  },
  {
   "cell_type": "markdown",
   "metadata": {},
   "source": [
    "# US Median Wage Estimates, 1990-2019\n",
    "\n",
    "I often hear that the average US citizen has an income of around $50,000 per\n",
    "year. I hadn't previously seen where this number comes from, but recently I\n",
    "found that the Social Security Administration provides some pretty interesting\n",
    "data at their website.\n",
    "\n",
    "For example, [here](https://www.ssa.gov/OACT/COLA/awi.gif) is the US average\n",
    "wage index over time (displaying a local copy below):\n",
    "\n",
    "![](/uploads/2020/10/awi.gif)\n",
    "\n",
    "I recently discovered that they provide a webapp showing a summary of the US\n",
    "W-2 reported income. Most interestingly, it includes binned data so one can\n",
    "look at the changes in specific income brackets over time, and additionally\n",
    "they provide an estimate of the *median* income as well.\n",
    "\n",
    "An example URL for the webapp: <https://www.ssa.gov/cgi-bin/netcomp.cgi?year=2003>\n",
    "\n",
    "## Median vs mean\n",
    "\n",
    "Something I hadn't considered (for whatever reason) is that discussion on the\n",
    "state of economic affairs based solely on the *average* income likely\n",
    "misrepresents how *most* of the US is doing. The *median* income is probably\n",
    "more representative of what most of us have in mind.\n",
    "\n",
    "As an example, if we have a population of 100 individuals whose income is\n",
    "normally distributed from 0 to 10 (choose whatever units you like), the mean\n",
    "and median tend to be similar:"
   ]
  },
  {
   "cell_type": "code",
   "execution_count": 2,
   "metadata": {},
   "outputs": [
    {
     "name": "stdout",
     "output_type": "stream",
     "text": [
      "First 10 values of population: [5.37663355 3.77759921 2.8321777  4.88866131 4.02549337 7.890585\n",
      " 8.07219506 4.30035334 2.18794887 2.15074077]\n",
      "\n",
      "np.median(population)=4.921754367304535\n",
      "np.mean(population)=4.982034011567311\n",
      "\n"
     ]
    },
    {
     "data": {
      "image/png": "[encoded data removed]",
      "text/plain": [
       "<Figure size 432x288 with 1 Axes>"
      ]
     },
     "metadata": {
      "needs_background": "light"
     },
     "output_type": "display_data"
    }
   ],
   "source": [
    "import matplotlib.pyplot as plt\n",
    "import numpy as np\n",
    "\n",
    "rng = np.random.default_rng()\n",
    "population = rng.normal(loc=5, scale=1.5, size=100)\n",
    "print(\n",
    "    f\"\"\"First 10 values of population: {population[:10]}\n",
    "\n",
    "{np.median(population)=}\n",
    "{np.mean(population)=}\n",
    "\"\"\"\n",
    ")\n",
    "plt.hist(population, bins=20, range=[0, 10])"
   ]
  },
  {
   "cell_type": "markdown",
   "metadata": {},
   "source": [
    "However, if we take *just one* member of the population and make their income\n",
    "an extreme outlier, the *average* is improved, but the *median* is not\n",
    "(assuming the outlier was selected from above the median to start with)."
   ]
  },
  {
   "cell_type": "code",
   "execution_count": 3,
   "metadata": {},
   "outputs": [],
   "source": [
    "population.sort()\n",
    "initial_median = np.median(population)\n",
    "initial_mean = np.mean(population)"
   ]
  },
  {
   "cell_type": "code",
   "execution_count": 4,
   "metadata": {},
   "outputs": [],
   "source": [
    "# Make the 49th richest (51st poorest) individual 100 times richer\n",
    "population[51] *= 100"
   ]
  },
  {
   "cell_type": "code",
   "execution_count": 5,
   "metadata": {},
   "outputs": [
    {
     "name": "stdout",
     "output_type": "stream",
     "text": [
      "Average income before: 4.982034011567312\n",
      "Average income after: 9.940573583180026\n",
      "\n",
      "Median income before: 4.921754367304535\n",
      "Median income after: 4.921754367304535\n"
     ]
    }
   ],
   "source": [
    "print(\n",
    "    f\"\"\"Average income before: {initial_mean}\n",
    "Average income after: {np.mean(population)}\n",
    "\n",
    "Median income before: {initial_median}\n",
    "Median income after: {np.median(population)}\"\"\"\n",
    ")"
   ]
  },
  {
   "cell_type": "markdown",
   "metadata": {},
   "source": [
    "We see that the *average* income of the population has nearly doubled!\n",
    "\n",
    "While that *sounds* great, the truth of the matter is that *most* of this\n",
    "population has not actually improved at all.\n",
    "\n",
    "As a matter of fact, we could even have a situation where all but one lucky\n",
    "individual see a *decrease* in their income, but the average *still* goes up."
   ]
  },
  {
   "cell_type": "code",
   "execution_count": 6,
   "metadata": {},
   "outputs": [],
   "source": [
    "population[:51] *= 0.95\n",
    "population[52:] *= 0.95"
   ]
  },
  {
   "cell_type": "code",
   "execution_count": 7,
   "metadata": {},
   "outputs": [
    {
     "name": "stdout",
     "output_type": "stream",
     "text": [
      "Average income before: 4.982034011567312\n",
      "Average income after: 9.693976195516614\n",
      "\n",
      "Median income before: 4.921754367304535\n",
      "Median income after: 4.675666648939308\n"
     ]
    }
   ],
   "source": [
    "print(\n",
    "    f\"\"\"Average income before: {initial_mean}\n",
    "Average income after: {np.mean(population)}\n",
    "\n",
    "Median income before: {initial_median}\n",
    "Median income after: {np.median(population)}\"\"\"\n",
    ")"
   ]
  },
  {
   "cell_type": "markdown",
   "metadata": {},
   "source": [
    "In this example, *99%* of the population is 5% *poorer* than they were to start with,\n",
    "which is reflected by the dropping *median* income, but contrasts starkly with\n",
    "a near **doubling** of the *average* income of the population.\n",
    "\n",
    "Hopefully this is old news to most readers, but I think it was worth briefly\n",
    "reviewing. Statistics matter! Especially when some people in our contry are\n",
    "worth *hundreds of billions of dollars*, while the [official poverty rate][census]\n",
    "is more than 10% -- some 33 million people.\n",
    "\n",
    "[census]: https://www.census.gov/content/dam/Census/library/publications/2020/demo/p60-270.pdf \"Income and Poverty in the United States: 2019\""
   ]
  },
  {
   "cell_type": "markdown",
   "metadata": {},
   "source": [
    "## SSA data vs census data\n",
    "\n",
    "Before going on to the SSA data, I wanted to point out that the SSA data below\n",
    "differs *substantially* from the data available from the US Census (and for\n",
    "fellow nerds, my understanding is that census.gov has a good API -- I look\n",
    "forward to exploring their data soon!). For example, [their report][census]\n",
    "shows the 2019 median household income to be about $68,000 -- *much* higher\n",
    "than the SSA numbers below.\n",
    "\n",
    "It seems like some of the important differences to keep in mind include:\n",
    "\n",
    "- census includes *reported* data, the SSA is *measured* (W-2)\n",
    "- census is *household* data, SSA is *individual*\n",
    "    - one might expect 2-income households to be roughly twice as much on the census data as compared to SSA\n",
    "- AFAIK, SSA is *only W-2 income*, meaning that capital gains and income from\n",
    "  other work will not be reflectedin SSA, but may be included in what is\n",
    "  reported by individuls in the census data\n",
    "\n",
    "With that out of the way, on to the numbers!\n",
    "\n",
    "[census]: https://www.census.gov/content/dam/Census/library/publications/2020/demo/p60-270.pdf \"Income and Poverty in the United States: 2019\""
   ]
  },
  {
   "cell_type": "code",
   "execution_count": 8,
   "metadata": {},
   "outputs": [],
   "source": [
    "# main dependencies for the notebook\n",
    "import pickle\n",
    "import re\n",
    "import typing as t\n",
    "from urllib.request import urlopen\n",
    "\n",
    "import altair as alt\n",
    "import pandas as pd\n",
    "from sklearn.linear_model import LinearRegression\n",
    "\n",
    "# NB: you will also need `pyarrow` installed to store and read dataframes from\n",
    "# feather format. You don't need to import it, but uncomment below to test if\n",
    "# you have it available.\n",
    "# import pyarrow"
   ]
  },
  {
   "cell_type": "code",
   "execution_count": 9,
   "metadata": {},
   "outputs": [],
   "source": [
    "# imports and helper function to run doctests\n",
    "import copy\n",
    "import doctest\n",
    "\n",
    "\n",
    "def testme(func):\n",
    "    \"\"\"\n",
    "    Automatically runs doctests for a decorated function.\n",
    "    https://stackoverflow.com/a/49659927/1588795\n",
    "    \"\"\"\n",
    "    globs = copy.copy(globals())\n",
    "    globs.update({func.__name__: func})\n",
    "    doctest.run_docstring_examples(\n",
    "        func, globs, verbose=False, name=func.__name__\n",
    "    )\n",
    "    return func"
   ]
  },
  {
   "cell_type": "code",
   "execution_count": 10,
   "metadata": {},
   "outputs": [],
   "source": [
    "# Build up some regular expressions to parse out the data from the\n",
    "# relevant paragraphs\n",
    "MONEY = r\"\\$[0-9,]+\\.[0-9]{2}\"\n",
    "YEAR = r\"\\d{4}\"\n",
    "mean_re = re.compile(\n",
    "    (\n",
    "        'The \"raw\" average wage, computed as net compensation divided by the '\n",
    "        f\"number of wage earners, is {MONEY} divided by [0-9,]+, or \"\n",
    "        rf\"({MONEY})\\.\"\n",
    "    ).strip()\n",
    ")\n",
    "\n",
    "median_re = re.compile(\n",
    "    (\n",
    "        \"By definition, 50 percent of wage earners had net compensation less \"\n",
    "        \"than or equal to the <i>median</i> wage, which is estimated to be \"\n",
    "        rf\"({MONEY}) for {YEAR}\\.\"\n",
    "    ).strip()\n",
    ")"
   ]
  },
  {
   "cell_type": "code",
   "execution_count": 11,
   "metadata": {},
   "outputs": [],
   "source": [
    "@testme\n",
    "def clean_number(string) -> float:\n",
    "    \"\"\"\n",
    "    Turn a string of a dollar amount into a float.\n",
    "    >>> clean_number(\"$123,456.78\")\n",
    "    123456.78\n",
    "    \"\"\"\n",
    "    return float(string.lstrip(\"$\").replace(\",\", \"\"))\n",
    "\n",
    "\n",
    "def get_year(year: int) -> t.Dict[str, int]:\n",
    "    \"\"\"\n",
    "    Get the median and mean for `year` from SSA.gov.\n",
    "    \"\"\"\n",
    "    with urlopen(\n",
    "        f\"https://www.ssa.gov/cgi-bin/netcomp.cgi?year={year}\"\n",
    "    ) as req:\n",
    "        resp = req.read().decode()\n",
    "    clean_whitespace = \" \".join(resp.split())\n",
    "\n",
    "    median = median_re.search(clean_whitespace).group(1)\n",
    "    mean = mean_re.search(clean_whitespace).group(1)\n",
    "    return {\n",
    "        \"year\": year,\n",
    "        \"median\": clean_number(median),\n",
    "        \"mean\": clean_number(mean),\n",
    "    }"
   ]
  },
  {
   "cell_type": "code",
   "execution_count": 12,
   "metadata": {},
   "outputs": [],
   "source": [
    "# If a feather file is available, load the dataframe from the local file.\n",
    "# Otherwise, query ssa.gov for 1990-2019, create a dataframe, and make a\n",
    "# local copy in feather format to prevent unnecessary http requests.\n",
    "try:\n",
    "    df = pd.read_feather(\"20201022_ssa_median_income.feather\").set_index(\n",
    "        \"year\"\n",
    "    )\n",
    "except FileNotFoundError:\n",
    "    df = (\n",
    "        pd.DataFrame(get_year(year) for year in range(1990, 2020))\n",
    "        .set_index(\"year\")\n",
    "        .sort_index()\n",
    "    )\n",
    "    df.reset_index().to_feather(\"20201022_ssa_median_income.feather\")"
   ]
  },
  {
   "cell_type": "code",
   "execution_count": 26,
   "metadata": {},
   "outputs": [
    {
     "data": {
      "text/html": [
       "\n",
       "<div id=\"altair-viz-f701433ea0704237a543b69eb83255e9\"></div>\n",
       "<script type=\"text/javascript\">\n",
       "  (function(spec, embedOpt){\n",
       "    let outputDiv = document.currentScript.previousElementSibling;\n",
       "    if (outputDiv.id !== \"altair-viz-f701433ea0704237a543b69eb83255e9\") {\n",
       "      outputDiv = document.getElementById(\"altair-viz-f701433ea0704237a543b69eb83255e9\");\n",
       "    }\n",
       "    const paths = {\n",
       "      \"vega\": \"https://cdn.jsdelivr.net/npm//vega@5?noext\",\n",
       "      \"vega-lib\": \"https://cdn.jsdelivr.net/npm//vega-lib?noext\",\n",
       "      \"vega-lite\": \"https://cdn.jsdelivr.net/npm//vega-lite@4.8.1?noext\",\n",
       "      \"vega-embed\": \"https://cdn.jsdelivr.net/npm//vega-embed@6?noext\",\n",
       "    };\n",
       "\n",
       "    function loadScript(lib) {\n",
       "      return new Promise(function(resolve, reject) {\n",
       "        var s = document.createElement('script');\n",
       "        s.src = paths[lib];\n",
       "        s.async = true;\n",
       "        s.onload = () => resolve(paths[lib]);\n",
       "        s.onerror = () => reject(`Error loading script: ${paths[lib]}`);\n",
       "        document.getElementsByTagName(\"head\")[0].appendChild(s);\n",
       "      });\n",
       "    }\n",
       "\n",
       "    function showError(err) {\n",
       "      outputDiv.innerHTML = `<div class=\"error\" style=\"color:red;\">${err}</div>`;\n",
       "      throw err;\n",
       "    }\n",
       "\n",
       "    function displayChart(vegaEmbed) {\n",
       "      vegaEmbed(outputDiv, spec, embedOpt)\n",
       "        .catch(err => showError(`Javascript Error: ${err.message}<br>This usually means there's a typo in your chart specification. See the javascript console for the full traceback.`));\n",
       "    }\n",
       "\n",
       "    if(typeof define === \"function\" && define.amd) {\n",
       "      requirejs.config({paths});\n",
       "      require([\"vega-embed\"], displayChart, err => showError(`Error loading script: ${err.message}`));\n",
       "    } else if (typeof vegaEmbed === \"function\") {\n",
       "      displayChart(vegaEmbed);\n",
       "    } else {\n",
       "      loadScript(\"vega\")\n",
       "        .then(() => loadScript(\"vega-lite\"))\n",
       "        .then(() => loadScript(\"vega-embed\"))\n",
       "        .catch(showError)\n",
       "        .then(() => displayChart(vegaEmbed));\n",
       "    }\n",
       "  })({\"config\": {\"view\": {\"continuousWidth\": 400, \"continuousHeight\": 300}}, \"data\": {\"name\": \"data-c7065798eda604eaa483399633c61cad\"}, \"mark\": \"line\", \"encoding\": {\"color\": {\"type\": \"nominal\", \"field\": \"variable\", \"legend\": {\"title\": null}}, \"x\": {\"type\": \"ordinal\", \"field\": \"year\"}, \"y\": {\"type\": \"quantitative\", \"axis\": {\"format\": \"$,d\", \"title\": \"income $USD\"}, \"field\": \"value\"}}, \"selection\": {\"selector002\": {\"type\": \"interval\", \"bind\": \"scales\", \"encodings\": [\"x\", \"y\"]}}, \"title\": \"Source: SSA.gov\", \"$schema\": \"https://vega.github.io/schema/vega-lite/v4.8.1.json\", \"datasets\": {\"data-c7065798eda604eaa483399633c61cad\": [{\"year\": 1990, \"variable\": \"median\", \"value\": 15075.94}, {\"year\": 1991, \"variable\": \"median\", \"value\": 15075.94}, {\"year\": 1992, \"variable\": \"median\", \"value\": 15610.4}, {\"year\": 1993, \"variable\": \"median\", \"value\": 15690.77}, {\"year\": 1994, \"variable\": \"median\", \"value\": 16118.02}, {\"year\": 1995, \"variable\": \"median\", \"value\": 16650.16}, {\"year\": 1996, \"variable\": \"median\", \"value\": 17403.45}, {\"year\": 1997, \"variable\": \"median\", \"value\": 18277.43}, {\"year\": 1998, \"variable\": \"median\", \"value\": 19157.4}, {\"year\": 1999, \"variable\": \"median\", \"value\": 20102.35}, {\"year\": 2000, \"variable\": \"median\", \"value\": 20957.18}, {\"year\": 2001, \"variable\": \"median\", \"value\": 21767.29}, {\"year\": 2002, \"variable\": \"median\", \"value\": 22152.84}, {\"year\": 2003, \"variable\": \"median\", \"value\": 22576.71}, {\"year\": 2004, \"variable\": \"median\", \"value\": 23355.83}, {\"year\": 2005, \"variable\": \"median\", \"value\": 23962.2}, {\"year\": 2006, \"variable\": \"median\", \"value\": 24891.59}, {\"year\": 2007, \"variable\": \"median\", \"value\": 25737.2}, {\"year\": 2008, \"variable\": \"median\", \"value\": 26514.38}, {\"year\": 2009, \"variable\": \"median\", \"value\": 26261.29}, {\"year\": 2010, \"variable\": \"median\", \"value\": 26363.55}, {\"year\": 2011, \"variable\": \"median\", \"value\": 26965.43}, {\"year\": 2012, \"variable\": \"median\", \"value\": 27519.1}, {\"year\": 2013, \"variable\": \"median\", \"value\": 28031.02}, {\"year\": 2014, \"variable\": \"median\", \"value\": 28851.21}, {\"year\": 2015, \"variable\": \"median\", \"value\": 29930.13}, {\"year\": 2016, \"variable\": \"median\", \"value\": 30533.31}, {\"year\": 2017, \"variable\": \"median\", \"value\": 31561.49}, {\"year\": 2018, \"variable\": \"median\", \"value\": 32838.05}, {\"year\": 2019, \"variable\": \"median\", \"value\": 34248.45}, {\"year\": 1990, \"variable\": \"mean\", \"value\": 20923.84}, {\"year\": 1991, \"variable\": \"mean\", \"value\": 20923.84}, {\"year\": 1992, \"variable\": \"mean\", \"value\": 22001.92}, {\"year\": 1993, \"variable\": \"mean\", \"value\": 22191.14}, {\"year\": 1994, \"variable\": \"mean\", \"value\": 22786.73}, {\"year\": 1995, \"variable\": \"mean\", \"value\": 23700.11}, {\"year\": 1996, \"variable\": \"mean\", \"value\": 24859.17}, {\"year\": 1997, \"variable\": \"mean\", \"value\": 26309.73}, {\"year\": 1998, \"variable\": \"mean\", \"value\": 27686.75}, {\"year\": 1999, \"variable\": \"mean\", \"value\": 29229.69}, {\"year\": 2000, \"variable\": \"mean\", \"value\": 30846.09}, {\"year\": 2001, \"variable\": \"mean\", \"value\": 31581.97}, {\"year\": 2002, \"variable\": \"mean\", \"value\": 31898.7}, {\"year\": 2003, \"variable\": \"mean\", \"value\": 32678.48}, {\"year\": 2004, \"variable\": \"mean\", \"value\": 34197.63}, {\"year\": 2005, \"variable\": \"mean\", \"value\": 35448.93}, {\"year\": 2006, \"variable\": \"mean\", \"value\": 37078.27}, {\"year\": 2007, \"variable\": \"mean\", \"value\": 38760.95}, {\"year\": 2008, \"variable\": \"mean\", \"value\": 39652.61}, {\"year\": 2009, \"variable\": \"mean\", \"value\": 39054.62}, {\"year\": 2010, \"variable\": \"mean\", \"value\": 39959.3}, {\"year\": 2011, \"variable\": \"mean\", \"value\": 41211.36}, {\"year\": 2012, \"variable\": \"mean\", \"value\": 42498.21}, {\"year\": 2013, \"variable\": \"mean\", \"value\": 43041.39}, {\"year\": 2014, \"variable\": \"mean\", \"value\": 44569.2}, {\"year\": 2015, \"variable\": \"mean\", \"value\": 46119.78}, {\"year\": 2016, \"variable\": \"mean\", \"value\": 46640.94}, {\"year\": 2017, \"variable\": \"mean\", \"value\": 48251.57}, {\"year\": 2018, \"variable\": \"mean\", \"value\": 50000.44}, {\"year\": 2019, \"variable\": \"mean\", \"value\": 51916.27}]}}, {\"mode\": \"vega-lite\"});\n",
       "</script>"
      ],
      "text/plain": [
       "alt.Chart(...)"
      ]
     },
     "execution_count": 26,
     "metadata": {},
     "output_type": "execute_result"
    }
   ],
   "source": [
    "alt.Chart(df.reset_index().melt(\"year\")).mark_line().encode(\n",
    "    x=\"year:O\",\n",
    "    y=alt.Y(\"value\", axis=alt.Axis(format=\"$,d\", title=\"income $USD\")),\n",
    "    color=alt.Color(\"variable\", legend=alt.Legend(title=None)),\n",
    ").properties(title=\"Source: SSA.gov\").interactive()"
   ]
  },
  {
   "cell_type": "code",
   "execution_count": 14,
   "metadata": {},
   "outputs": [],
   "source": [
    "# Make a mapping of {year: dataframe} where the dataframe includes the entire\n",
    "# chart of income levels. Again, once fetched, pickle the object locally to\n",
    "# avoid unnecessary http requests. Please be familiar with security concerns\n",
    "# when loading *untrusted* pickled data before running this block.\n",
    "\n",
    "try:\n",
    "    with open(\"income_dfs.pkl\", \"rb\") as f:\n",
    "        income_dfs = pickle.load(f)\n",
    "except FileNotFoundError:\n",
    "    income_dfs = {}\n",
    "    for year in range(1990, 2020):\n",
    "        tmp_df = pd.read_html(\n",
    "            f\"https://www.ssa.gov/cgi-bin/netcomp.cgi?year={year}\"\n",
    "        )[-2]\n",
    "        tmp_df.columns = tmp_df.columns.droplevel()\n",
    "        tmp_df[[\"Aggregate amount\", \"Average amount\"]] = tmp_df[\n",
    "            [\"Aggregate amount\", \"Average amount\"]\n",
    "        ].apply(lambda x: x.str.lstrip(\"$\").str.replace(\",\", \"\").astype(float))\n",
    "        income_dfs[year] = tmp_df\n",
    "    with open(\"income_dfs.pkl\", \"wb\") as f:\n",
    "        pickle.dump(income_dfs, f)"
   ]
  },
  {
   "cell_type": "code",
   "execution_count": 15,
   "metadata": {},
   "outputs": [
    {
     "data": {
      "text/html": [
       "<div>\n",
       "<style scoped>\n",
       "    .dataframe tbody tr th:only-of-type {\n",
       "        vertical-align: middle;\n",
       "    }\n",
       "\n",
       "    .dataframe tbody tr th {\n",
       "        vertical-align: top;\n",
       "    }\n",
       "\n",
       "    .dataframe thead th {\n",
       "        text-align: right;\n",
       "    }\n",
       "</style>\n",
       "<table border=\"1\" class=\"dataframe\">\n",
       "  <thead>\n",
       "    <tr style=\"text-align: right;\">\n",
       "      <th></th>\n",
       "      <th>Net compensation interval</th>\n",
       "      <th>Number</th>\n",
       "      <th>Cumulativenumber</th>\n",
       "      <th>Percentof total</th>\n",
       "      <th>Aggregate amount</th>\n",
       "      <th>Average amount</th>\n",
       "    </tr>\n",
       "  </thead>\n",
       "  <tbody>\n",
       "    <tr>\n",
       "      <th>0</th>\n",
       "      <td>$0.01 — 4,999.99</td>\n",
       "      <td>26312244</td>\n",
       "      <td>26312244</td>\n",
       "      <td>17.81198</td>\n",
       "      <td>5.361136e+10</td>\n",
       "      <td>2037.51</td>\n",
       "    </tr>\n",
       "    <tr>\n",
       "      <th>1</th>\n",
       "      <td>5,000.00 — 9,999.99</td>\n",
       "      <td>15231616</td>\n",
       "      <td>41543860</td>\n",
       "      <td>28.12296</td>\n",
       "      <td>1.125687e+11</td>\n",
       "      <td>7390.46</td>\n",
       "    </tr>\n",
       "    <tr>\n",
       "      <th>2</th>\n",
       "      <td>10,000.00 — 14,999.99</td>\n",
       "      <td>13262655</td>\n",
       "      <td>54806515</td>\n",
       "      <td>37.10107</td>\n",
       "      <td>1.651411e+11</td>\n",
       "      <td>12451.59</td>\n",
       "    </tr>\n",
       "    <tr>\n",
       "      <th>3</th>\n",
       "      <td>15,000.00 — 19,999.99</td>\n",
       "      <td>12733058</td>\n",
       "      <td>67539573</td>\n",
       "      <td>45.72066</td>\n",
       "      <td>2.225614e+11</td>\n",
       "      <td>17479.02</td>\n",
       "    </tr>\n",
       "    <tr>\n",
       "      <th>4</th>\n",
       "      <td>20,000.00 — 24,999.99</td>\n",
       "      <td>12034969</td>\n",
       "      <td>79574542</td>\n",
       "      <td>53.86769</td>\n",
       "      <td>2.703204e+11</td>\n",
       "      <td>22461.24</td>\n",
       "    </tr>\n",
       "  </tbody>\n",
       "</table>\n",
       "</div>"
      ],
      "text/plain": [
       "  Net compensation interval    Number  Cumulativenumber  Percentof total  \\\n",
       "0          $0.01 — 4,999.99  26312244          26312244         17.81198   \n",
       "1       5,000.00 — 9,999.99  15231616          41543860         28.12296   \n",
       "2     10,000.00 — 14,999.99  13262655          54806515         37.10107   \n",
       "3     15,000.00 — 19,999.99  12733058          67539573         45.72066   \n",
       "4     20,000.00 — 24,999.99  12034969          79574542         53.86769   \n",
       "\n",
       "   Aggregate amount  Average amount  \n",
       "0      5.361136e+10         2037.51  \n",
       "1      1.125687e+11         7390.46  \n",
       "2      1.651411e+11        12451.59  \n",
       "3      2.225614e+11        17479.02  \n",
       "4      2.703204e+11        22461.24  "
      ]
     },
     "execution_count": 15,
     "metadata": {},
     "output_type": "execute_result"
    }
   ],
   "source": [
    "# Give an idea of the shape of this data\n",
    "income_dfs[2003].head()"
   ]
  },
  {
   "cell_type": "code",
   "execution_count": 16,
   "metadata": {},
   "outputs": [
    {
     "data": {
      "text/plain": [
       "(False, True)"
      ]
     },
     "execution_count": 16,
     "metadata": {},
     "output_type": "execute_result"
    }
   ],
   "source": [
    "# Show that the bins from 1997 - 2019 are the same, but differ than 1996 and\n",
    "# earlier\n",
    "\n",
    "(\n",
    "    (\n",
    "        income_dfs[1996][\"Net compensation interval\"].eq(\n",
    "            income_dfs[1997][\"Net compensation interval\"]\n",
    "        )\n",
    "    ).all(),\n",
    "    (\n",
    "        income_dfs[1997][\"Net compensation interval\"].eq(\n",
    "            income_dfs[2019][\"Net compensation interval\"]\n",
    "        )\n",
    "    ).all(),\n",
    ")"
   ]
  },
  {
   "cell_type": "code",
   "execution_count": 17,
   "metadata": {},
   "outputs": [],
   "source": [
    "# Filter out the $50,000,000 and greater column\n",
    "more_than_50_mil = (\n",
    "    pd.DataFrame(\n",
    "        pd.concat(\n",
    "            [income_dfs[y].iloc[-1, [0, 1]], pd.Series(y, index=[\"year\"])]\n",
    "        )\n",
    "        for y in income_dfs.keys()\n",
    "        if y > 1996\n",
    "    )\n",
    "    .set_index(\"year\")\n",
    "    .sort_index()\n",
    ")"
   ]
  },
  {
   "cell_type": "code",
   "execution_count": 25,
   "metadata": {},
   "outputs": [
    {
     "data": {
      "text/html": [
       "\n",
       "<div id=\"altair-viz-89dde0e7321a42239add91281dd522db\"></div>\n",
       "<script type=\"text/javascript\">\n",
       "  (function(spec, embedOpt){\n",
       "    let outputDiv = document.currentScript.previousElementSibling;\n",
       "    if (outputDiv.id !== \"altair-viz-89dde0e7321a42239add91281dd522db\") {\n",
       "      outputDiv = document.getElementById(\"altair-viz-89dde0e7321a42239add91281dd522db\");\n",
       "    }\n",
       "    const paths = {\n",
       "      \"vega\": \"https://cdn.jsdelivr.net/npm//vega@5?noext\",\n",
       "      \"vega-lib\": \"https://cdn.jsdelivr.net/npm//vega-lib?noext\",\n",
       "      \"vega-lite\": \"https://cdn.jsdelivr.net/npm//vega-lite@4.8.1?noext\",\n",
       "      \"vega-embed\": \"https://cdn.jsdelivr.net/npm//vega-embed@6?noext\",\n",
       "    };\n",
       "\n",
       "    function loadScript(lib) {\n",
       "      return new Promise(function(resolve, reject) {\n",
       "        var s = document.createElement('script');\n",
       "        s.src = paths[lib];\n",
       "        s.async = true;\n",
       "        s.onload = () => resolve(paths[lib]);\n",
       "        s.onerror = () => reject(`Error loading script: ${paths[lib]}`);\n",
       "        document.getElementsByTagName(\"head\")[0].appendChild(s);\n",
       "      });\n",
       "    }\n",
       "\n",
       "    function showError(err) {\n",
       "      outputDiv.innerHTML = `<div class=\"error\" style=\"color:red;\">${err}</div>`;\n",
       "      throw err;\n",
       "    }\n",
       "\n",
       "    function displayChart(vegaEmbed) {\n",
       "      vegaEmbed(outputDiv, spec, embedOpt)\n",
       "        .catch(err => showError(`Javascript Error: ${err.message}<br>This usually means there's a typo in your chart specification. See the javascript console for the full traceback.`));\n",
       "    }\n",
       "\n",
       "    if(typeof define === \"function\" && define.amd) {\n",
       "      requirejs.config({paths});\n",
       "      require([\"vega-embed\"], displayChart, err => showError(`Error loading script: ${err.message}`));\n",
       "    } else if (typeof vegaEmbed === \"function\") {\n",
       "      displayChart(vegaEmbed);\n",
       "    } else {\n",
       "      loadScript(\"vega\")\n",
       "        .then(() => loadScript(\"vega-lite\"))\n",
       "        .then(() => loadScript(\"vega-embed\"))\n",
       "        .catch(showError)\n",
       "        .then(() => displayChart(vegaEmbed));\n",
       "    }\n",
       "  })({\"config\": {\"view\": {\"continuousWidth\": 400, \"continuousHeight\": 300}}, \"layer\": [{\"mark\": \"point\", \"encoding\": {\"x\": {\"type\": \"ordinal\", \"field\": \"year\"}, \"y\": {\"type\": \"quantitative\", \"field\": \"Number\"}}, \"selection\": {\"selector001\": {\"type\": \"interval\", \"bind\": \"scales\", \"encodings\": [\"x\", \"y\"]}}, \"title\": \"# of income > $50,000,000 over time\"}, {\"mark\": \"text\", \"encoding\": {\"text\": {\"type\": \"nominal\", \"field\": \"coef\"}, \"x\": {\"value\": 120}, \"y\": {\"value\": 50}}, \"title\": \"# of income > $50,000,000 over time\", \"transform\": [{\"on\": \"year\", \"regression\": \"Number\", \"params\": true}]}, {\"mark\": \"text\", \"encoding\": {\"text\": {\"type\": \"nominal\", \"field\": \"rSquared\"}, \"x\": {\"value\": 120}, \"y\": {\"value\": 75}}, \"title\": \"# of income > $50,000,000 over time\", \"transform\": [{\"on\": \"year\", \"regression\": \"Number\", \"params\": true}]}, {\"mark\": \"line\", \"encoding\": {\"x\": {\"type\": \"ordinal\", \"field\": \"year\"}, \"y\": {\"type\": \"quantitative\", \"field\": \"Number\"}}, \"title\": \"# of income > $50,000,000 over time\", \"transform\": [{\"on\": \"year\", \"regression\": \"Number\"}]}], \"data\": {\"name\": \"data-f2a985c5a0c9139b09a021a8d9804b7d\"}, \"$schema\": \"https://vega.github.io/schema/vega-lite/v4.8.1.json\", \"datasets\": {\"data-f2a985c5a0c9139b09a021a8d9804b7d\": [{\"year\": 1997, \"Net compensation interval\": \"50,000,000.00 and over\", \"Number\": 13}, {\"year\": 1998, \"Net compensation interval\": \"50,000,000.00 and over\", \"Number\": 26}, {\"year\": 1999, \"Net compensation interval\": \"50,000,000.00 and over\", \"Number\": 87}, {\"year\": 2000, \"Net compensation interval\": \"50,000,000.00 and over\", \"Number\": 91}, {\"year\": 2001, \"Net compensation interval\": \"50,000,000.00 and over\", \"Number\": 58}, {\"year\": 2002, \"Net compensation interval\": \"50,000,000.00 and over\", \"Number\": 39}, {\"year\": 2003, \"Net compensation interval\": \"50,000,000.00 and over\", \"Number\": 32}, {\"year\": 2004, \"Net compensation interval\": \"50,000,000.00 and over\", \"Number\": 96}, {\"year\": 2005, \"Net compensation interval\": \"50,000,000.00 and over\", \"Number\": 102}, {\"year\": 2006, \"Net compensation interval\": \"50,000,000.00 and over\", \"Number\": 126}, {\"year\": 2007, \"Net compensation interval\": \"50,000,000.00 and over\", \"Number\": 151}, {\"year\": 2008, \"Net compensation interval\": \"50,000,000.00 and over\", \"Number\": 131}, {\"year\": 2009, \"Net compensation interval\": \"50,000,000.00 and over\", \"Number\": 72}, {\"year\": 2010, \"Net compensation interval\": \"50,000,000.00 and over\", \"Number\": 81}, {\"year\": 2011, \"Net compensation interval\": \"50,000,000.00 and over\", \"Number\": 93}, {\"year\": 2012, \"Net compensation interval\": \"50,000,000.00 and over\", \"Number\": 166}, {\"year\": 2013, \"Net compensation interval\": \"50,000,000.00 and over\", \"Number\": 110}, {\"year\": 2014, \"Net compensation interval\": \"50,000,000.00 and over\", \"Number\": 134}, {\"year\": 2015, \"Net compensation interval\": \"50,000,000.00 and over\", \"Number\": 202}, {\"year\": 2016, \"Net compensation interval\": \"50,000,000.00 and over\", \"Number\": 143}, {\"year\": 2017, \"Net compensation interval\": \"50,000,000.00 and over\", \"Number\": 205}, {\"year\": 2018, \"Net compensation interval\": \"50,000,000.00 and over\", \"Number\": 211}, {\"year\": 2019, \"Net compensation interval\": \"50,000,000.00 and over\", \"Number\": 222}]}}, {\"mode\": \"vega-lite\"});\n",
       "</script>"
      ],
      "text/plain": [
       "alt.LayerChart(...)"
      ]
     },
     "execution_count": 25,
     "metadata": {},
     "output_type": "execute_result"
    }
   ],
   "source": [
    "chart = (\n",
    "    alt.Chart(more_than_50_mil.reset_index())\n",
    "    .mark_point()\n",
    "    .encode(\n",
    "        x=\"year:O\",\n",
    "        y=\"Number:Q\",\n",
    "    )\n",
    "    .properties(title=\"# of income > $50,000,000 over time\")\n",
    ")\n",
    "\n",
    "coef = (\n",
    "    chart.transform_regression(\"year\", \"Number\", params=True)\n",
    "    .mark_text()\n",
    "    .encode(\n",
    "        x=alt.value(120),\n",
    "        y=alt.value(50),\n",
    "        text=\"coef:N\",\n",
    "    )\n",
    ")\n",
    "\n",
    "rSquared = (\n",
    "    chart.transform_regression(\"year\", \"Number\", params=True)\n",
    "    .mark_text()\n",
    "    .encode(\n",
    "        x=alt.value(120),\n",
    "        y=alt.value(75),\n",
    "        text=\"rSquared:N\",\n",
    "    )\n",
    ")\n",
    "line = chart.transform_regression(\"year\", \"Number\").mark_line()\n",
    "(chart + coef + rSquared + line).interactive()"
   ]
  },
  {
   "cell_type": "markdown",
   "metadata": {},
   "source": [
    "The chart above shows the parameters for the regression, but they're a little hard\n",
    "to read. The most pertinent seems like it would be the slope -- the number of\n",
    "people per year that are moving into the >= $50,000,000 per year range. Lets\n",
    "build a little convenience function to make the slope easily accessible."
   ]
  },
  {
   "cell_type": "code",
   "execution_count": 19,
   "metadata": {},
   "outputs": [],
   "source": [
    "def get_slope(df: pd.DataFrame, column_name: str) -> float:\n",
    "    \"\"\"\n",
    "    Returns the slope from a dataframe based on index and values from\n",
    "    `column_name`\n",
    "    >>> slope = pd.DataFrame({\"A\": [3, 5, 7]}).pipe(get_slope, \"A\")\n",
    "    >>> np.isclose(slope, 2)\n",
    "    True\n",
    "    \"\"\"\n",
    "    lr = LinearRegression()\n",
    "    lr.fit(\n",
    "        df.index.values.reshape(-1, 1),\n",
    "        df[column_name],\n",
    "    )\n",
    "    return lr.coef_[0]"
   ]
  },
  {
   "cell_type": "code",
   "execution_count": 20,
   "metadata": {},
   "outputs": [
    {
     "name": "stdout",
     "output_type": "stream",
     "text": [
      "slope=7.59\n",
      "Average number of people in this group: 112.65\n",
      "Group is increasing by about: 6.74% per year\n"
     ]
    }
   ],
   "source": [
    "slope = more_than_50_mil.pipe(get_slope, \"Number\")\n",
    "mean = more_than_50_mil[\"Number\"].mean()\n",
    "print(\n",
    "    f\"\"\"{slope=:.2f}\n",
    "Average number of people in this group: {mean:.2f}\n",
    "Group is increasing by about: {slope / mean:.2%} per year\"\"\"\n",
    ")"
   ]
  },
  {
   "cell_type": "markdown",
   "metadata": {},
   "source": [
    "Now lets look at the poorest of the poor."
   ]
  },
  {
   "cell_type": "code",
   "execution_count": 21,
   "metadata": {},
   "outputs": [],
   "source": [
    "less_than_5k = (\n",
    "    pd.DataFrame(\n",
    "        pd.concat(\n",
    "            [income_dfs[y].iloc[0, [0, 1]], pd.Series(y, index=[\"year\"])]\n",
    "        )\n",
    "        for y in income_dfs.keys()\n",
    "        if y > 1996\n",
    "    )\n",
    "    .set_index(\"year\")\n",
    "    .sort_index()\n",
    ")"
   ]
  },
  {
   "cell_type": "code",
   "execution_count": 27,
   "metadata": {},
   "outputs": [
    {
     "data": {
      "text/html": [
       "\n",
       "<div id=\"altair-viz-3d4c6b3334404df980dac862ae56f55a\"></div>\n",
       "<script type=\"text/javascript\">\n",
       "  (function(spec, embedOpt){\n",
       "    let outputDiv = document.currentScript.previousElementSibling;\n",
       "    if (outputDiv.id !== \"altair-viz-3d4c6b3334404df980dac862ae56f55a\") {\n",
       "      outputDiv = document.getElementById(\"altair-viz-3d4c6b3334404df980dac862ae56f55a\");\n",
       "    }\n",
       "    const paths = {\n",
       "      \"vega\": \"https://cdn.jsdelivr.net/npm//vega@5?noext\",\n",
       "      \"vega-lib\": \"https://cdn.jsdelivr.net/npm//vega-lib?noext\",\n",
       "      \"vega-lite\": \"https://cdn.jsdelivr.net/npm//vega-lite@4.8.1?noext\",\n",
       "      \"vega-embed\": \"https://cdn.jsdelivr.net/npm//vega-embed@6?noext\",\n",
       "    };\n",
       "\n",
       "    function loadScript(lib) {\n",
       "      return new Promise(function(resolve, reject) {\n",
       "        var s = document.createElement('script');\n",
       "        s.src = paths[lib];\n",
       "        s.async = true;\n",
       "        s.onload = () => resolve(paths[lib]);\n",
       "        s.onerror = () => reject(`Error loading script: ${paths[lib]}`);\n",
       "        document.getElementsByTagName(\"head\")[0].appendChild(s);\n",
       "      });\n",
       "    }\n",
       "\n",
       "    function showError(err) {\n",
       "      outputDiv.innerHTML = `<div class=\"error\" style=\"color:red;\">${err}</div>`;\n",
       "      throw err;\n",
       "    }\n",
       "\n",
       "    function displayChart(vegaEmbed) {\n",
       "      vegaEmbed(outputDiv, spec, embedOpt)\n",
       "        .catch(err => showError(`Javascript Error: ${err.message}<br>This usually means there's a typo in your chart specification. See the javascript console for the full traceback.`));\n",
       "    }\n",
       "\n",
       "    if(typeof define === \"function\" && define.amd) {\n",
       "      requirejs.config({paths});\n",
       "      require([\"vega-embed\"], displayChart, err => showError(`Error loading script: ${err.message}`));\n",
       "    } else if (typeof vegaEmbed === \"function\") {\n",
       "      displayChart(vegaEmbed);\n",
       "    } else {\n",
       "      loadScript(\"vega\")\n",
       "        .then(() => loadScript(\"vega-lite\"))\n",
       "        .then(() => loadScript(\"vega-embed\"))\n",
       "        .catch(showError)\n",
       "        .then(() => displayChart(vegaEmbed));\n",
       "    }\n",
       "  })({\"config\": {\"view\": {\"continuousWidth\": 400, \"continuousHeight\": 300}}, \"layer\": [{\"mark\": \"point\", \"encoding\": {\"x\": {\"type\": \"ordinal\", \"field\": \"year\"}, \"y\": {\"type\": \"quantitative\", \"field\": \"Number\"}}, \"selection\": {\"selector003\": {\"type\": \"interval\", \"bind\": \"scales\", \"encodings\": [\"x\", \"y\"]}}, \"title\": \"Less than $5k\"}, {\"mark\": \"text\", \"encoding\": {\"text\": {\"type\": \"nominal\", \"field\": \"coef\"}, \"x\": {\"value\": 120}, \"y\": {\"value\": 150}}, \"title\": \"Less than $5k\", \"transform\": [{\"on\": \"year\", \"regression\": \"Number\", \"params\": true}]}, {\"mark\": \"text\", \"encoding\": {\"text\": {\"type\": \"nominal\", \"field\": \"rSquared\"}, \"x\": {\"value\": 120}, \"y\": {\"value\": 175}}, \"title\": \"Less than $5k\", \"transform\": [{\"on\": \"year\", \"regression\": \"Number\", \"params\": true}]}, {\"mark\": \"line\", \"encoding\": {\"x\": {\"type\": \"ordinal\", \"field\": \"year\"}, \"y\": {\"type\": \"quantitative\", \"field\": \"Number\"}}, \"title\": \"Less than $5k\", \"transform\": [{\"on\": \"year\", \"regression\": \"Number\"}]}], \"data\": {\"name\": \"data-0443db874ff6dbcb96eb502fd513d050\"}, \"$schema\": \"https://vega.github.io/schema/vega-lite/v4.8.1.json\", \"datasets\": {\"data-0443db874ff6dbcb96eb502fd513d050\": [{\"year\": 1997, \"Net compensation interval\": \"$0.01 \\u2014 4,999.99\", \"Number\": 28733228}, {\"year\": 1998, \"Net compensation interval\": \"$0.01 \\u2014 4,999.99\", \"Number\": 28122423}, {\"year\": 1999, \"Net compensation interval\": \"$0.01 \\u2014 4,999.99\", \"Number\": 27575843}, {\"year\": 2000, \"Net compensation interval\": \"$0.01 \\u2014 4,999.99\", \"Number\": 27394588}, {\"year\": 2001, \"Net compensation interval\": \"$0.01 \\u2014 4,999.99\", \"Number\": 26817190}, {\"year\": 2002, \"Net compensation interval\": \"$0.01 \\u2014 4,999.99\", \"Number\": 26662922}, {\"year\": 2003, \"Net compensation interval\": \"$0.01 \\u2014 4,999.99\", \"Number\": 26312244}, {\"year\": 2004, \"Net compensation interval\": \"$0.01 \\u2014 4,999.99\", \"Number\": 25949558}, {\"year\": 2005, \"Net compensation interval\": \"$0.01 \\u2014 4,999.99\", \"Number\": 25800867}, {\"year\": 2006, \"Net compensation interval\": \"$0.01 \\u2014 4,999.99\", \"Number\": 25600469}, {\"year\": 2007, \"Net compensation interval\": \"$0.01 \\u2014 4,999.99\", \"Number\": 25233419}, {\"year\": 2008, \"Net compensation interval\": \"$0.01 \\u2014 4,999.99\", \"Number\": 24596809}, {\"year\": 2009, \"Net compensation interval\": \"$0.01 \\u2014 4,999.99\", \"Number\": 24315992}, {\"year\": 2010, \"Net compensation interval\": \"$0.01 \\u2014 4,999.99\", \"Number\": 24124490}, {\"year\": 2011, \"Net compensation interval\": \"$0.01 \\u2014 4,999.99\", \"Number\": 23548858}, {\"year\": 2012, \"Net compensation interval\": \"$0.01 \\u2014 4,999.99\", \"Number\": 23303064}, {\"year\": 2013, \"Net compensation interval\": \"$0.01 \\u2014 4,999.99\", \"Number\": 23115933}, {\"year\": 2014, \"Net compensation interval\": \"$0.01 \\u2014 4,999.99\", \"Number\": 22574440}, {\"year\": 2015, \"Net compensation interval\": \"$0.01 \\u2014 4,999.99\", \"Number\": 21998602}, {\"year\": 2016, \"Net compensation interval\": \"$0.01 \\u2014 4,999.99\", \"Number\": 21816123}, {\"year\": 2017, \"Net compensation interval\": \"$0.01 \\u2014 4,999.99\", \"Number\": 21445269}, {\"year\": 2018, \"Net compensation interval\": \"$0.01 \\u2014 4,999.99\", \"Number\": 20912646}, {\"year\": 2019, \"Net compensation interval\": \"$0.01 \\u2014 4,999.99\", \"Number\": 20180756}]}}, {\"mode\": \"vega-lite\"});\n",
       "</script>"
      ],
      "text/plain": [
       "alt.LayerChart(...)"
      ]
     },
     "execution_count": 27,
     "metadata": {},
     "output_type": "execute_result"
    }
   ],
   "source": [
    "chart = (\n",
    "    alt.Chart(less_than_5k.reset_index())\n",
    "    .mark_point()\n",
    "    .encode(\n",
    "        x=\"year:O\",\n",
    "        y=\"Number:Q\",\n",
    "    )\n",
    "    .properties(title=\"Less than $5k\")\n",
    ")\n",
    "\n",
    "coef = (\n",
    "    chart.transform_regression(\"year\", \"Number\", params=True)\n",
    "    .mark_text()\n",
    "    .encode(\n",
    "        x=alt.value(120),\n",
    "        y=alt.value(150),\n",
    "        text=\"coef:N\",\n",
    "    )\n",
    ")\n",
    "\n",
    "rSquared = (\n",
    "    chart.transform_regression(\"year\", \"Number\", params=True)\n",
    "    .mark_text()\n",
    "    .encode(\n",
    "        x=alt.value(120),\n",
    "        y=alt.value(175),\n",
    "        text=\"rSquared:N\",\n",
    "    )\n",
    ")\n",
    "line = chart.transform_regression(\"year\", \"Number\").mark_line()\n",
    "(chart + coef + rSquared + line).interactive()"
   ]
  },
  {
   "cell_type": "code",
   "execution_count": 23,
   "metadata": {},
   "outputs": [
    {
     "name": "stdout",
     "output_type": "stream",
     "text": [
      "slope=-357146.05\n",
      "Average number of people in this group: 24614597.09\n",
      "Group is decreasing by about: 1.45% per year\n"
     ]
    }
   ],
   "source": [
    "slope = less_than_5k.pipe(get_slope, \"Number\")\n",
    "mean = less_than_5k[\"Number\"].mean()\n",
    "print(\n",
    "    f\"\"\"{slope=:.2f}\n",
    "Average number of people in this group: {mean:.2f}\n",
    "Group is decreasing by about: {-slope / mean:.2%} per year\"\"\"\n",
    ")"
   ]
  },
  {
   "cell_type": "code",
   "execution_count": 24,
   "metadata": {},
   "outputs": [
    {
     "data": {
      "text/plain": [
       "42460.35824745949"
      ]
     },
     "execution_count": 24,
     "metadata": {},
     "output_type": "execute_result"
    }
   ],
   "source": [
    "income_dfs[2019].iloc[-1][\"Average amount\"] / income_dfs[2019].iloc[0][\n",
    "    \"Average amount\"\n",
    "]"
   ]
  },
  {
   "cell_type": "markdown",
   "metadata": {},
   "source": [
    "## Summary\n",
    "\n",
    "The SSA provides some interesting an accessible data on income in the US. The\n",
    "median income reported by the SSA is *way* lower than I thought it was, and\n",
    "much lower than the household-level data reported by the census.\n",
    "\n",
    "The number of Americans making more than $50 million per year is low, and is\n",
    "increasing by about 6% per year (small denominator, this is less than 8\n",
    "people). Each of them make as much per year as about 42,000 people in the\n",
    "lowest bracket combined. The count of people in the lowest bracket is\n",
    "decreasing by less than 2% per year. Hpefully this represents improvement in\n",
    "their standard of living, though I suppose it could also be people dropping out\n",
    "of the workforce completely."
   ]
  }
 ],
 "metadata": {
  "kernelspec": {
   "display_name": "n8remote",
   "language": "python",
   "name": "n8remote"
  },
  "language_info": {
   "codemirror_mode": {
    "name": "ipython",
    "version": 3
   },
   "file_extension": ".py",
   "mimetype": "text/x-python",
   "name": "python",
   "nbconvert_exporter": "python",
   "pygments_lexer": "ipython3",
   "version": "3.8.6"
  }
 },
 "nbformat": 4,
 "nbformat_minor": 4
}
